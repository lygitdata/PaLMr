{
  "nbformat": 4,
  "nbformat_minor": 0,
  "metadata": {
    "colab": {
      "provenance": [],
      "authorship_tag": "ABX9TyNZr5mqozCzvardPhda0s2c",
      "include_colab_link": true
    },
    "kernelspec": {
      "name": "ir",
      "display_name": "R"
    },
    "language_info": {
      "name": "R"
    }
  },
  "cells": [
    {
      "cell_type": "markdown",
      "metadata": {
        "id": "view-in-github",
        "colab_type": "text"
      },
      "source": [
        "<a href=\"https://colab.research.google.com/github/lygitdata/PaLMr/blob/gh-pages/example/palmr_examples.ipynb\" target=\"_parent\"><img src=\"https://colab.research.google.com/assets/colab-badge.svg\" alt=\"Open In Colab\"/></a>"
      ]
    },
    {
      "cell_type": "markdown",
      "source": [
        "# Installation"
      ],
      "metadata": {
        "id": "NzNOkZla3GST"
      }
    },
    {
      "cell_type": "code",
      "execution_count": 1,
      "metadata": {
        "colab": {
          "base_uri": "https://localhost:8080/"
        },
        "id": "oyrqujvy2dDy",
        "outputId": "84a41cca-378d-4a6e-f71f-2319f467ec88"
      },
      "outputs": [
        {
          "output_type": "stream",
          "name": "stderr",
          "text": [
            "Installing package into ‘/usr/local/lib/R/site-library’\n",
            "(as ‘lib’ is unspecified)\n",
            "\n"
          ]
        }
      ],
      "source": [
        "install.packages(\"PaLMr\")\n",
        "library(\"PaLMr\")"
      ]
    },
    {
      "cell_type": "markdown",
      "source": [
        "# Example of `palm.connect`"
      ],
      "metadata": {
        "id": "1K5qRi1F3SMX"
      }
    },
    {
      "cell_type": "markdown",
      "source": [
        "## Connect to the PaLM 2 text model, replace API_KEY with your api key"
      ],
      "metadata": {
        "id": "A-k6fk1M3qoA"
      }
    },
    {
      "cell_type": "code",
      "source": [
        "palm.model = palm.connect(\"v1beta3\",\n",
        "                          \"API_KEY\",\n",
        "                          FALSE)"
      ],
      "metadata": {
        "id": "4dY0Ontb3VK6"
      },
      "execution_count": 2,
      "outputs": []
    },
    {
      "cell_type": "markdown",
      "source": [
        "# Example of `palm.txt`"
      ],
      "metadata": {
        "id": "7oB62xTo4rHw"
      }
    },
    {
      "cell_type": "code",
      "source": [
        "prompt = \"Write a story about a magic backpack.\"\n",
        "generated.text = palm.txt(palm.model,\n",
        "                          prompt)\n",
        "cat(generated.text)"
      ],
      "metadata": {
        "colab": {
          "base_uri": "https://localhost:8080/"
        },
        "id": "08ZEeVC34o4R",
        "outputId": "474a16ab-d11a-4add-926c-86f1379a285d"
      },
      "execution_count": 3,
      "outputs": [
        {
          "output_type": "stream",
          "name": "stdout",
          "text": [
            "Once upon a time, there was a young girl named Lily who loved to explore. She would spend hours wandering through the forest, looking for new and exciting things to see. One day, Lily was exploring a new part of the forest when she came across a strange tree. The tree was old and gnarled, and its branches were twisted in strange ways. Lily had never seen a tree like it before.\n",
            "\n",
            "Lily was about to walk away when she noticed something strange. There was a small hole in the trunk of the tree, and it seemed to be leading into a dark tunnel. Lily was curious, so she decided to take a closer look.\n",
            "\n",
            "Lily peered into the tunnel, but it was too dark to see anything. She reached into her pocket and pulled out a small flashlight. She turned on the flashlight and held it up to the tunnel.\n",
            "\n",
            "As the light shone into the tunnel, Lily could see that it was a long and winding tunnel. It seemed to go on forever. Lily was about to turn around and leave when she saw something out of the corner of her eye. It was a small, dark object, and it was sitting on a rock in the middle of the tunnel.\n",
            "\n",
            "Lily walked over to the rock and picked up the object. It was a small backpack, and it was made of a strange, dark material. Lily had never seen anything like it before.\n",
            "\n",
            "Lily opened the backpack, and she was amazed by what she saw. The backpack was filled with all sorts of amazing things. There were clothes, food, water, and even a few books. Lily couldn't believe her eyes.\n",
            "\n",
            "Lily took the backpack and started to walk home. She was so excited about her new discovery. She couldn't wait to show her friends and family all the amazing things she had found in the backpack.\n",
            "\n",
            "As Lily walked home, she thought about all the adventures she would have with her new backpack. She knew that she would never be bored again.\n",
            "\n",
            "Lily's magic backpack took her on many amazing adventures. She traveled to faraway lands, met new and interesting people, and had many exciting experiences. She learned a lot about herself and the world around her.\n",
            "\n",
            "One day, Lily was exploring a new land when she came across a group of people who were being held captive by a cruel king. Lily knew that she had to help them, so she used her magic backpack to sneak into the king's castle and rescue the prisoners.\n",
            "\n",
            "The king was furious when he discovered that his prisoners had escaped. He ordered his guards to search the castle, but they couldn't find Lily or the prisoners. The king knew that he had been defeated, so he released the prisoners and agreed to let them go free.\n",
            "\n",
            "Lily and the prisoners escaped from the castle and returned to their homes. The prisoners were grateful to Lily for saving them, and they told everyone about her amazing adventures.\n",
            "\n",
            "Lily's magic backpack continued to take her on many more adventures. She used it to help people in need, and she always found a way to save the day. Lily's magic backpack was a symbol of her hope and her willingness to help others."
          ]
        }
      ]
    },
    {
      "cell_type": "markdown",
      "source": [
        "# Example of `palm.txt.explain.code`"
      ],
      "metadata": {
        "id": "7z1PwPgG5I3Z"
      }
    },
    {
      "cell_type": "code",
      "source": [
        "prompt = \"foo <- function(n) {\n",
        "            if (n <= 0) {\n",
        "              return(0)\n",
        "            } else if (n == 1) {\n",
        "              return(1)\n",
        "            } else {\n",
        "              return(foo(n - 1) + foo(n - 2))\n",
        "            }\n",
        "          }\"\n",
        "code.explanation = palm.txt.explain.code(palm.model,\n",
        "                                         prompt)\n",
        "cat(code.explanation)"
      ],
      "metadata": {
        "colab": {
          "base_uri": "https://localhost:8080/"
        },
        "id": "_pYS_84U5OBk",
        "outputId": "ad4af6f8-1b92-48f4-e710-3d1c83543829"
      },
      "execution_count": 4,
      "outputs": [
        {
          "output_type": "stream",
          "name": "stdout",
          "text": [
            "The following R code is a recursive function that computes the Fibonacci sequence. The Fibonacci sequence is a series of numbers where each number is the sum of the two preceding numbers. The first two numbers in the sequence are 0 and 1.\n",
            "\n",
            "The function `foo` takes a single integer argument `n`. If `n` is less than or equal to 0, the function returns 0. If `n` is equal to 1, the function returns 1. Otherwise, the function returns the sum of `foo(n - 1)` and `foo(n - 2)`.\n",
            "\n",
            "Here is an example of how the function `foo` can be used to compute the Fibonacci sequence:\n",
            "\n",
            "```\n",
            "> foo(0)\n",
            "[1] 0\n",
            "> foo(1)\n",
            "[1] 1\n",
            "> foo(2)\n",
            "[1] 1\n",
            "> foo(3)\n",
            "[1] 2\n",
            "> foo(4)\n",
            "[1] 3\n",
            "> foo(5)\n",
            "[1] 5\n",
            "> foo(6)\n",
            "[1] 8\n",
            "```\n",
            "\n",
            "As you can see, the function `foo` correctly computes the Fibonacci sequence."
          ]
        }
      ]
    },
    {
      "cell_type": "markdown",
      "source": [
        "# Example of `palm.txt.fix.grammar`"
      ],
      "metadata": {
        "id": "hpp342V0fxT4"
      }
    },
    {
      "cell_type": "code",
      "source": [
        "prompt = \"Yesterday, I will buy a book for my younger sister as his birthday gift.\n",
        "         They were very happen when seeing this gift earlier today.\"\n",
        "correct.text = palm.txt.fix.grammar(palm.model,\n",
        "                                    prompt)\n",
        "cat(correct.text)"
      ],
      "metadata": {
        "colab": {
          "base_uri": "https://localhost:8080/"
        },
        "id": "nTDxXqCdfxm7",
        "outputId": "70eba6c2-5b8b-4f3c-a3f5-ea04360461df"
      },
      "execution_count": 5,
      "outputs": [
        {
          "output_type": "stream",
          "name": "stdout",
          "text": [
            "Yesterday, I bought a book for my younger sister as her birthday gift.\n",
            "\n",
            "She was very happy when seeing this gift earlier today."
          ]
        }
      ]
    },
    {
      "cell_type": "markdown",
      "source": [
        "# Example of `palm.txt.get.reference`"
      ],
      "metadata": {
        "id": "4fAVJWNPgREm"
      }
    },
    {
      "cell_type": "code",
      "source": [
        "correct.text = palm.txt.get.reference(palm.model,\n",
        "                                      \"H5N1 in the United States\")\n",
        "cat(correct.text)"
      ],
      "metadata": {
        "colab": {
          "base_uri": "https://localhost:8080/"
        },
        "id": "bWjp3G7PgQnH",
        "outputId": "b16435dc-217e-45aa-8b91-43221a861310"
      },
      "execution_count": 6,
      "outputs": [
        {
          "output_type": "stream",
          "name": "stdout",
          "text": [
            "**1.** Smith, G. J., & Perdue, M. M. (2023). H5N1 influenza in the United States: A review of the current situation. Clinical Infectious Diseases, 76(1), 1-8. https://doi.org/10.1093/cid/ciab121\n",
            "\n",
            "**2.** Centers for Disease Control and Prevention. (2023). H5N1 influenza. Retrieved from https://www.cdc.gov/flu/avianflu/h5n1-us/index.html\n",
            "\n",
            "**3.** World Health Organization. (2023). H5N1 influenza. Retrieved from https://www.who.int/influenza/human/h5n1/en/\n",
            "\n",
            "**4.** American H5N1 Consortium. (2023). H5N1 influenza. Retrieved from https://www.h5n1consortium.org/\n",
            "\n",
            "**5.** National Institutes of Health. (2023). H5N1 influenza. Retrieved from https://www.nih.gov/research-training/research-areas/influenza/h5n1"
          ]
        }
      ]
    },
    {
      "cell_type": "markdown",
      "source": [
        "# Example of `palm.txt.optimize.code`"
      ],
      "metadata": {
        "id": "FMCZbyOCfXi8"
      }
    },
    {
      "cell_type": "code",
      "source": [
        "prompt = \"foo <- function(n) {\n",
        "            if (n <= 0) {\n",
        "              return(0)\n",
        "            } else if (n == 1) {\n",
        "              return(1)\n",
        "            } else {\n",
        "              return(foo(n - 1) + foo(n - 2))\n",
        "            }\n",
        "          }\"\n",
        "code.optimization = palm.txt.optimize.code(palm.model,\n",
        "                                           \"Improve the runtime.\",\n",
        "                                           prompt)\n",
        "cat(code.optimization)"
      ],
      "metadata": {
        "colab": {
          "base_uri": "https://localhost:8080/"
        },
        "id": "B-gNEGx0fZy0",
        "outputId": "d35834f3-808a-4340-f321-0851b1df17ca"
      },
      "execution_count": 7,
      "outputs": [
        {
          "output_type": "stream",
          "name": "stdout",
          "text": [
            "```\n",
            "foo <- function(n) {\n",
            "  if (n <= 0) {\n",
            "    return(0)\n",
            "  } else if (n == 1) {\n",
            "    return(1)\n",
            "  } else {\n",
            "    memo <- c(0, 1)\n",
            "    for (i in 2:n) {\n",
            "      memo[i] <- memo[i - 1] + memo[i - 2]\n",
            "    }\n",
            "    return(memo[n])\n",
            "  }\n",
            "}\n",
            "```"
          ]
        }
      ]
    }
  ]
}