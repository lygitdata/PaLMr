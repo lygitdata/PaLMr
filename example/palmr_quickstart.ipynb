{
  "nbformat": 4,
  "nbformat_minor": 0,
  "metadata": {
    "colab": {
      "provenance": [],
      "authorship_tag": "ABX9TyNPTLXKSt29CouVtoY5jai/",
      "include_colab_link": true
    },
    "kernelspec": {
      "name": "ir",
      "display_name": "R"
    },
    "language_info": {
      "name": "R"
    }
  },
  "cells": [
    {
      "cell_type": "markdown",
      "metadata": {
        "id": "view-in-github",
        "colab_type": "text"
      },
      "source": [
        "<a href=\"https://colab.research.google.com/github/lygitdata/PaLMr/blob/gh-pages/example/palmr_quickstart.ipynb\" target=\"_parent\"><img src=\"https://colab.research.google.com/assets/colab-badge.svg\" alt=\"Open In Colab\"/></a>"
      ]
    },
    {
      "cell_type": "markdown",
      "source": [
        "# PaLMr quickstart"
      ],
      "metadata": {
        "id": "NzNOkZla3GST"
      }
    },
    {
      "cell_type": "code",
      "execution_count": 1,
      "metadata": {
        "colab": {
          "base_uri": "https://localhost:8080/"
        },
        "id": "oyrqujvy2dDy",
        "outputId": "08aba1b6-4a4c-4054-a510-827e533d9cc4"
      },
      "outputs": [
        {
          "output_type": "stream",
          "name": "stderr",
          "text": [
            "Installing package into ‘/usr/local/lib/R/site-library’\n",
            "(as ‘lib’ is unspecified)\n",
            "\n"
          ]
        }
      ],
      "source": [
        "# Install the library\n",
        "install.packages("PaLMr")\n",
        "\n",
        "# Import the library\n",
        "library(\"PaLMr\")\n",
        "\n",
        "# Connect to the PaLM 2 text model, replace API_KEY with your api key\n",
        "palm.model = palm.connect(\"v1beta3\",\n",
        "                          \"API_KEY\",\n",
        "                          FALSE)"
      ]
    },
    {
      "cell_type": "markdown",
      "source": [
        "# Text generation\n"
      ],
      "metadata": {
        "id": "1K5qRi1F3SMX"
      }
    },
    {
      "cell_type": "code",
      "source": [
        "prompt = \"Write a story about a magic backpack.\"\n",
        "generated.text = palm.txt(palm.model,\n",
        "                          prompt)\n",
        "cat(generated.text)"
      ],
      "metadata": {
        "colab": {
          "base_uri": "https://localhost:8080/"
        },
        "id": "CqNYrIEr9d8U",
        "outputId": "0691abfe-31a3-4a74-de53-00ba203eba48"
      },
      "execution_count": 2,
      "outputs": [
        {
          "output_type": "stream",
          "name": "stdout",
          "text": [
            "Once upon a time, there was a young boy named Jack who lived in a small village. Jack was a kind and hardworking boy, but he was very poor. One day, Jack was walking in the forest when he came across a strange old man. The old man was sitting on a rock, and he was wearing a long, flowing beard.\n",
            "\n",
            "\"Hello,\" said Jack. \"Can I help you?\"\n",
            "\n",
            "\"I am looking for a young man who is brave and kind,\" said the old man. \"Would you be willing to help me on a quest?\"\n",
            "\n",
            "\"Of course,\" said Jack. \"I would be honored.\"\n",
            "\n",
            "\"Very well,\" said the old man. \"I need you to go to the top of the mountain and retrieve my magic backpack.\"\n",
            "\n",
            "\"The magic backpack?\" asked Jack. \"What's so special about it?\"\n",
            "\n",
            "\"The magic backpack can grant any wish,\" said the old man. \"But it is only for those who are worthy.\"\n",
            "\n",
            "\"I'm worthy,\" said Jack.\n",
            "\n",
            "\"I believe you are,\" said the old man. \"But you must prove it to me. Go to the top of the mountain and retrieve the backpack. If you are successful, you will be rewarded with its power.\"\n",
            "\n",
            "Jack set off for the mountain. He climbed for many hours, and finally he reached the top. There, he found a small cave. Jack entered the cave, and he found the magic backpack.\n",
            "\n",
            "Jack took the backpack and started to walk home. As he walked, he thought about all the things he could wish for. He could wish for a big house, a new car, or a lot of money. But then he had an idea. He would wish for the magic backpack to grant wishes for other people.\n",
            "\n",
            "Jack arrived home and showed the magic backpack to his parents. They were amazed. Jack wished for a new house for his family, and then he wished for a new car. His parents were so happy.\n",
            "\n",
            "Jack started to use the magic backpack to help other people in the village. He wished for a new well for the village, and he wished for a new school. The people in the village were so grateful.\n",
            "\n",
            "Jack continued to use the magic backpack to help people. He wished for an end to war, he wished for peace and harmony, and he wished for a better world. The magic backpack granted all of Jack's wishes.\n",
            "\n",
            "Jack lived a long and happy life. He used the magic backpack to help people all over the world. He made the world a better place, and he was always grateful for the gift that the old man had given him."
          ]
        }
      ]
    }
  ]
}
